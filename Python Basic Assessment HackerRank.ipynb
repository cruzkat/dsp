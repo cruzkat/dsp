{
 "cells": [
  {
   "cell_type": "markdown",
   "metadata": {},
   "source": [
    "Write a Python lambda function which takes a list called my_list and returns a list which includes only even numbers, in the same order."
   ]
  },
  {
   "cell_type": "code",
   "execution_count": 2,
   "metadata": {},
   "outputs": [],
   "source": [
    "my_list = [1,2,4,5,8]\n",
    "f =  lambda my_list: filter(lambda y : (y%2==0), my_list)"
   ]
  },
  {
   "cell_type": "markdown",
   "metadata": {},
   "source": [
    "Map. Given items_list and def sqr(x): return x **2\n",
    "\n",
    "Use 'map' to return a list called 'items_squared' which si the square of each item in items_list.\n"
   ]
  },
  {
   "cell_type": "code",
   "execution_count": 3,
   "metadata": {},
   "outputs": [
    {
     "ename": "NameError",
     "evalue": "name 'sqr' is not defined",
     "output_type": "error",
     "traceback": [
      "\u001b[1;31m---------------------------------------------------------------------------\u001b[0m",
      "\u001b[1;31mNameError\u001b[0m                                 Traceback (most recent call last)",
      "\u001b[1;32m<ipython-input-3-848034f99beb>\u001b[0m in \u001b[0;36m<module>\u001b[1;34m()\u001b[0m\n\u001b[1;32m----> 1\u001b[1;33m \u001b[0mitems_squared\u001b[0m \u001b[1;33m=\u001b[0m \u001b[0mlist\u001b[0m\u001b[1;33m(\u001b[0m\u001b[0mmap\u001b[0m\u001b[1;33m(\u001b[0m\u001b[0msqr\u001b[0m\u001b[1;33m,\u001b[0m\u001b[0mitems_list\u001b[0m\u001b[1;33m)\u001b[0m\u001b[1;33m)\u001b[0m\u001b[1;33m\u001b[0m\u001b[0m\n\u001b[0m",
      "\u001b[1;31mNameError\u001b[0m: name 'sqr' is not defined"
     ]
    }
   ],
   "source": [
    "items_squared = list(map(sqr,items_list))"
   ]
  },
  {
   "cell_type": "markdown",
   "metadata": {},
   "source": [
    "**Filter**\n",
    "Given xlist = [0,5,10,15,20]\n",
    "Use 'filter' to return a list called 'tens_list' which includes all items in xlist that are divisible by 10."
   ]
  },
  {
   "cell_type": "code",
   "execution_count": 5,
   "metadata": {},
   "outputs": [],
   "source": [
    "xlist = [0, 5, 10, 15, 20, 25, 30, 35, 40, 45, 50, 75,100]\n",
    "\n",
    "# Write your answer in one line, using \"filter\"\n",
    "tens_list = list(filter(lambda num: num%10==0, xlist))"
   ]
  },
  {
   "cell_type": "markdown",
   "metadata": {},
   "source": [
    "Write a function that computers the difference in days between 2 given dates. Dates will be strings.\n"
   ]
  },
  {
   "cell_type": "code",
   "execution_count": 6,
   "metadata": {},
   "outputs": [],
   "source": [
    "def difference_in_days(date1, date2):\n",
    "    first_date = datetime.strptime(date1, '%m-%d-%Y').date()\n",
    "    second_date = datetime.strptime(date2, '%m-%d-%Y').date()\n",
    "    delta = (second_date - first_date).days\n",
    "    return delta"
   ]
  },
  {
   "cell_type": "markdown",
   "metadata": {},
   "source": [
    "List comprehension. Write a one-line list comprehension which produces a list of Farenheit values given a variable called 'celsius'."
   ]
  },
  {
   "cell_type": "code",
   "execution_count": 7,
   "metadata": {},
   "outputs": [],
   "source": [
    "celsius = [39.2, 36.5, 37.3, 0, 20]\n",
    "# write your answer in one line. use a list comprehension. use the variable \"celsius\"\n",
    "fahrenheit = list(float(9/5)*cels + 32 for cels in celsius)"
   ]
  },
  {
   "cell_type": "markdown",
   "metadata": {},
   "source": [
    "Given an int count of a number of donuts, write a function 'donuts' that returns a string of the form 'Number of donuts: <count>', where <count> is the number passed in. If more than 10, return 'many' instead of actual count."
   ]
  },
  {
   "cell_type": "code",
   "execution_count": 8,
   "metadata": {},
   "outputs": [],
   "source": [
    "def donuts(count):\n",
    "    if int(count) < 10:\n",
    "        count = str(count)\n",
    "    else:\n",
    "        count = 'many'\n",
    "    return 'Number of donuts: ' + count"
   ]
  },
  {
   "cell_type": "markdown",
   "metadata": {},
   "source": [
    "Write a function 'both_ends' that, given a string s, returns a string made of the first 2 and the last 2 chars of the original string. However, if the string length i less than 2, reutrn instead the empty string."
   ]
  },
  {
   "cell_type": "code",
   "execution_count": 9,
   "metadata": {},
   "outputs": [],
   "source": [
    "def both_ends(s):\n",
    "    if len(s) >= 2:\n",
    "        first_two = s[0:2]\n",
    "        last_two = s[-2:]\n",
    "        return first_two + last_two\n",
    "    else:\n",
    "        return ('')"
   ]
  },
  {
   "cell_type": "markdown",
   "metadata": {},
   "source": [
    "Write a function that, given a string 's', returns a string where all occurences of its first char have been changed to '*', except do not change the first char itself. Assume that the string is length 1 or more."
   ]
  },
  {
   "cell_type": "code",
   "execution_count": 10,
   "metadata": {},
   "outputs": [],
   "source": [
    "def fix_start(s):\n",
    "    mask_char = s[0]\n",
    "    new_string = s[1:]\n",
    "    for letter in new_string:\n",
    "        if letter == mask_char:\n",
    "            new_string = new_string.replace(letter,\"*\")\n",
    "    return (str(mask_char+new_string))"
   ]
  },
  {
   "cell_type": "markdown",
   "metadata": {},
   "source": [
    "Write a function that, given strings a and b, returns a single string with a and b separated by a space, except swaps the first 2 chars of each string. Assume a and b are length 2 or more."
   ]
  },
  {
   "cell_type": "code",
   "execution_count": 11,
   "metadata": {},
   "outputs": [],
   "source": [
    "def mix_up(a, b):\n",
    "    a_start = a[0:2]\n",
    "    b_start = b[0:2]\n",
    "    new_a = b_start + a[2:]\n",
    "    new_b = a_start + b[2:]\n",
    "    return new_a+' '+new_b"
   ]
  },
  {
   "cell_type": "markdown",
   "metadata": {},
   "source": [
    "Write a function 'verbing' that does the following:\n",
    "    Given a string, if its length is at least 3, add 'ing' to its send. Unless it already ends in 'ing', in which case add 'ly' instead. If the string length is less than 3, leave it unchanged. Return the resulting string. Assume lower case input."
   ]
  },
  {
   "cell_type": "code",
   "execution_count": 12,
   "metadata": {},
   "outputs": [],
   "source": [
    "def verbing(s):\n",
    "    s_end = s[-3:]\n",
    "    if len(s) >= 3:\n",
    "        if s_end == 'ing':\n",
    "            s = s +'ly'\n",
    "        else:   \n",
    "            s = s + 'ing'\n",
    "    else:\n",
    "        return s\n",
    "    return s"
   ]
  },
  {
   "cell_type": "markdown",
   "metadata": {},
   "source": [
    "Write a function that does the following:\n",
    "    Given a string, find the first appearance of 'not' and 'bad'. If the 'bad' follows the 'not', replace the whole 'not' ... 'bad' substring with 'good'. Return the resulting string.\n",
    "    "
   ]
  },
  {
   "cell_type": "code",
   "execution_count": 13,
   "metadata": {},
   "outputs": [],
   "source": [
    "def not_bad(s):\n",
    "    not_search = s.find('not')\n",
    "    bad_search = s.find('bad')\n",
    "    if bad_search > not_search:\n",
    "        good_substring = s[not_search:bad_search+3]\n",
    "        new_string = s.replace(good_substring,'good')\n",
    "    else:\n",
    "        return s\n",
    "    return new_string"
   ]
  },
  {
   "cell_type": "markdown",
   "metadata": {},
   "source": [
    "Write a function that does:\n",
    "    Consider dividing a string into two halves. If the length is even, the front and back halves are the same length. If the length is odd, we'll say that the extra char does in the front half. e.g. 'abcde', the front half is 'abc', the back half 'de'. Given 2 strings, a and b, return a string of the form a_front + b-front + a-back + b-back."
   ]
  },
  {
   "cell_type": "code",
   "execution_count": 14,
   "metadata": {},
   "outputs": [],
   "source": [
    "def front_back(s1, s2):\n",
    "    length_s1 = len(s1)\n",
    "    length_s2 = len(s2)\n",
    "    odd_half_1 = (length_s1//2)+1\n",
    "    odd_half_2 = (length_s2//2)+1 \n",
    "    if length_s1 > 2:\n",
    "        if length_s1 % 2 ==0:\n",
    "            a_front = s1[:length_s1//2]\n",
    "            a_back = s1[length_s1//2:]\n",
    "        else:\n",
    "            a_front = s1[:odd_half_1]\n",
    "            a_back = s1[odd_half_1:]\n",
    "    else:\n",
    "        a_front = s1[0:1]\n",
    "        a_back = s2[1:]\n",
    "    if length_s2 > 2:    \n",
    "        if length_s2 %2 == 0:\n",
    "            b_front = s2[:length_s2//2]\n",
    "            b_back = s2[length_s2//2:]\n",
    "        else:\n",
    "            b_front = s2[:odd_half_2]\n",
    "            b_back = s2[odd_half_2:]\n",
    "    else:\n",
    "        b_front = s2[0:1]\n",
    "        b_back = s2[1:]    \n",
    "    return a_front + b_front + a_back + b_back"
   ]
  },
  {
   "cell_type": "markdown",
   "metadata": {},
   "source": [
    "Given a list of strings, return the count of the number of strings where the string length is 2 or more and the first and last chars of the string are the same."
   ]
  },
  {
   "cell_type": "code",
   "execution_count": 15,
   "metadata": {},
   "outputs": [],
   "source": [
    "\n",
    "def match_ends(s):\n",
    "    count = 0\n",
    "    for each in s:\n",
    "        if len(each) >= 2:\n",
    "            if each[0] == each[-1]:\n",
    "                count += 1     \n",
    "    return count"
   ]
  },
  {
   "cell_type": "markdown",
   "metadata": {},
   "source": [
    "Given a list of strings, return a list with the strings in sorted order, except group all the strings that being with 'x' first. Assume lower case input."
   ]
  },
  {
   "cell_type": "code",
   "execution_count": 16,
   "metadata": {},
   "outputs": [],
   "source": [
    "def front_x(words):\n",
    "    x_list = []\n",
    "    other_list = []\n",
    "    for each in words:\n",
    "        if each.startswith('x'):\n",
    "            x_list.append(each)\n",
    "        else:\n",
    "            other_list.append(each)\n",
    "    return sorted(x_list) + sorted(other_list)"
   ]
  },
  {
   "cell_type": "markdown",
   "metadata": {},
   "source": [
    "Given a list of non-empty tuples, return a list sorted in increasing order by the last element in each tuple."
   ]
  },
  {
   "cell_type": "code",
   "execution_count": 17,
   "metadata": {},
   "outputs": [],
   "source": [
    "def sort_last(tuples):\n",
    "    return sorted(tuples, key=lambda last_digit: last_digit[-1])"
   ]
  },
  {
   "cell_type": "markdown",
   "metadata": {},
   "source": [
    "Given a list of numbers, return a list where all adjacent equal elements have been reduced to a single element, so [1, 2, 2,3] returns [1,2,3]. You may create a new list or modify the passed in list.\n"
   ]
  },
  {
   "cell_type": "code",
   "execution_count": 18,
   "metadata": {},
   "outputs": [],
   "source": [
    "def remove_adjacent(nums):\n",
    "    i = 1\n",
    "    length = len(nums)\n",
    "    while i < length:\n",
    "        if nums[i] == nums[i-1]:\n",
    "            del nums[i]\n",
    "            length -= 1\n",
    "        else:\n",
    "            i += 1\n",
    "    return nums"
   ]
  },
  {
   "cell_type": "markdown",
   "metadata": {},
   "source": [
    "Given two lists sorted in increasing order, create and return a merged list of all the elements in sorted order. You may modify the passed in lists. Ideally, the solution should work in 'linear' time, making a single pass of both lists."
   ]
  },
  {
   "cell_type": "code",
   "execution_count": 19,
   "metadata": {},
   "outputs": [],
   "source": [
    "def linear_merge(list1, list2):\n",
    "    return sorted(list1 + list2)"
   ]
  },
  {
   "cell_type": "markdown",
   "metadata": {},
   "source": [
    "The football.csv file contains the results from the English Premier League. The columns labeled 'Goals' and 'Goals Allowed' contain the total number of goals scored for and against each team in that season. Write a program to read the file, then print the name of the team with the smallest difference in 'for' and 'against' goals."
   ]
  },
  {
   "cell_type": "code",
   "execution_count": 20,
   "metadata": {},
   "outputs": [],
   "source": [
    "# The football.csv file contains the results from the English Premier League.\n",
    "# The columns labeled ‘Goals’ and ‘Goals Allowed’ contain the total number of\n",
    "# goals scored for and against each team in that season (so Arsenal scored 79 goals\n",
    "# against opponents, and had 36 goals scored against them). Write a program to read the file,\n",
    "# then print the name of the team with the smallest difference in ‘for’ and ‘against’ goals.\n",
    "\n",
    "# Don't use pandas.\n",
    "\n",
    "# Following functions will be called like this:\n",
    "#   footballTable = read_data('football.csv')\n",
    "#   minRow = get_index_with_min_abs_score_difference(footballTable)\n",
    "#   print str(get_team(minRow, footballTable))\n",
    "\n",
    "\n",
    "\n",
    "\n",
    "def read_data(filename):\n",
    "    \"\"\"Returns a list of lists representing the rows of the csv file data.\n",
    "\n",
    "    Arguments: filename is the name of a csv file (as a string)\n",
    "    Returns: list of lists of strings, where every line is split into a list of values. \n",
    "        ex: ['Arsenal', 38, 26, 9, 3, 79, 36, 87]\n",
    "    \"\"\"\n",
    "    import csv\n",
    "    f = open(filename)\n",
    "    read_file = csv.reader(f)\n",
    "    parsed_data = list(read_file)\n",
    "    parsed_data = parsed_data[1:]\n",
    "    return parsed_data\n",
    "\n",
    "def get_index_with_min_abs_score_difference(parsed_data):\n",
    "    \"\"\"Returns the index of the team with the smallest difference\n",
    "    between 'for' and 'against' goals, in terms of absolute value.\n",
    "\n",
    "    Arguments: parsed_data is a list of lists of cleaned strings\n",
    "    Returns: integer row index\n",
    "    \"\"\"\n",
    "    goal_difference_list = []\n",
    "    for each in parsed_data:\n",
    "        for_goals = each[5]\n",
    "        against_goals = each[6]\n",
    "        goal_difference = abs(int(for_goals) - int(against_goals))\n",
    "        goal_difference_list.append(goal_difference)\n",
    "        index_value = goal_difference_list.index(min(goal_difference_list))\n",
    "    return index_value\n",
    "    \n",
    "def get_team(index_value, parsed_data):\n",
    "    \"\"\"Returns the team name at a given index.\n",
    "    \n",
    "    Arguments: index_value is an integer row index\n",
    "               parsed_data is the output of `read_data` above\n",
    "               \n",
    "    Returns: the team name\n",
    "    \"\"\"\n",
    "    team_row = parsed_data[index_value]\n",
    "    team_name = team_row[0]\n",
    "    return team_name"
   ]
  },
  {
   "cell_type": "markdown",
   "metadata": {},
   "source": [
    "Big-O Notation links\n",
    "https://stackoverflow.com/questions/487258/what-is-a-plain-english-explanation-of-big-o-notation\n",
    "    https://www.bigocheatsheet.com/\n",
    "        https://chrisalbon.com/computer_science/algorithms/big-o_notation/"
   ]
  },
  {
   "cell_type": "code",
   "execution_count": null,
   "metadata": {},
   "outputs": [],
   "source": []
  }
 ],
 "metadata": {
  "kernelspec": {
   "display_name": "Python 3",
   "language": "python",
   "name": "python3"
  },
  "language_info": {
   "codemirror_mode": {
    "name": "ipython",
    "version": 3
   },
   "file_extension": ".py",
   "mimetype": "text/x-python",
   "name": "python",
   "nbconvert_exporter": "python",
   "pygments_lexer": "ipython3",
   "version": "3.6.4"
  }
 },
 "nbformat": 4,
 "nbformat_minor": 2
}
