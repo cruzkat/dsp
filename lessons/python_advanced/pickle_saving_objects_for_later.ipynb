{
 "cells": [
  {
   "cell_type": "code",
   "execution_count": 1,
   "metadata": {},
   "outputs": [
    {
     "name": "stdout",
     "output_type": "stream",
     "text": [
      "Python Version: 3.6.4 |Anaconda, Inc.| (default, Jan 16 2018, 10:22:32) [MSC v.1900 64 bit (AMD64)] \n",
      "\n"
     ]
    }
   ],
   "source": [
    "import sys\n",
    "print(\"Python Version:\", sys.version, '\\n')"
   ]
  },
  {
   "cell_type": "markdown",
   "metadata": {},
   "source": [
    "# Pickle: Saving Objects for Later"
   ]
  },
  {
   "cell_type": "markdown",
   "metadata": {},
   "source": [
    "Often in data science, we'll create some model or some version of our data and want to use it later. We have many options - we can save the coefficients, or save the data to csv, or...\n",
    "\n",
    "Actually, we don't have that many options. \n",
    "\n",
    "One way to overcome that is to save the python object to a file as a serialized object. That means we convert the entire object to a bunch of bytes, save those bytes into a file, and then have the ability to unpack those bytes back into their original format later. \n",
    "\n",
    "This is done by a module called `pickle`. Let's see it in action."
   ]
  },
  {
   "cell_type": "code",
   "execution_count": 2,
   "metadata": {},
   "outputs": [],
   "source": [
    "import pickle\n",
    "import random\n",
    "\n",
    "lots_of_noise = {\n",
    "    'CA': [random.randint(0,65) for _ in range(100)],\n",
    "    'IL': [random.randint(0,65) for _ in range(50)],\n",
    "    'NY': [random.randint(0,65) for _ in range(90)],\n",
    "    'WA': [random.randint(0,65) for _ in range(33)]\n",
    "}"
   ]
  },
  {
   "cell_type": "code",
   "execution_count": 3,
   "metadata": {},
   "outputs": [
    {
     "name": "stdout",
     "output_type": "stream",
     "text": [
      "{'CA': [7, 40, 4, 61, 60, 40, 10, 45, 55, 44, 30, 36, 46, 20, 13, 14, 32, 62, 2, 57, 14, 65, 17, 42, 4, 24, 28, 29, 50, 7, 59, 16, 56, 5, 51, 50, 48, 25, 5, 24, 52, 52, 56, 13, 46, 50, 52, 25, 30, 60, 30, 2, 50, 10, 27, 39, 57, 30, 57, 10, 40, 27, 57, 11, 16, 15, 18, 36, 32, 27, 57, 0, 16, 61, 19, 34, 39, 48, 31, 38, 41, 7, 27, 31, 6, 9, 25, 45, 57, 1, 61, 6, 64, 50, 48, 31, 4, 17, 0, 10], 'IL': [0, 13, 3, 9, 20, 25, 65, 56, 57, 4, 57, 37, 19, 58, 52, 3, 11, 63, 52, 62, 58, 56, 23, 12, 33, 65, 14, 44, 41, 1, 17, 50, 55, 53, 10, 29, 58, 42, 2, 52, 8, 24, 65, 39, 6, 19, 8, 1, 34, 8], 'NY': [41, 62, 51, 15, 4, 37, 62, 1, 22, 12, 8, 6, 23, 11, 12, 20, 35, 39, 57, 51, 19, 11, 24, 30, 64, 16, 3, 44, 42, 47, 38, 10, 11, 61, 30, 11, 35, 45, 24, 27, 23, 15, 48, 9, 20, 47, 28, 58, 39, 51, 4, 45, 43, 12, 57, 37, 22, 16, 56, 5, 54, 24, 52, 37, 1, 16, 64, 59, 22, 55, 62, 46, 25, 62, 48, 44, 34, 62, 44, 47, 7, 16, 63, 19, 47, 4, 51, 17, 7, 59], 'WA': [33, 63, 0, 44, 1, 51, 41, 32, 31, 25, 43, 37, 32, 46, 59, 59, 26, 26, 53, 16, 64, 19, 18, 36, 61, 50, 61, 32, 40, 14, 47, 24, 21]}\n"
     ]
    }
   ],
   "source": [
    "print(lots_of_noise)"
   ]
  },
  {
   "cell_type": "code",
   "execution_count": 4,
   "metadata": {},
   "outputs": [
    {
     "name": "stdout",
     "output_type": "stream",
     "text": [
      "Variable        Type      Data/Info\n",
      "-----------------------------------\n",
      "lots_of_noise   dict      n=4\n",
      "pickle          module    <module 'pickle' from 'C:<...>aconda3\\\\lib\\\\pickle.py'>\n",
      "random          module    <module 'random' from 'C:<...>aconda3\\\\lib\\\\random.py'>\n",
      "sys             module    <module 'sys' (built-in)>\n"
     ]
    }
   ],
   "source": [
    "whos"
   ]
  },
  {
   "cell_type": "markdown",
   "metadata": {},
   "source": [
    "We can see in this `whos` command that the object `lots_of_noise` exists and is a `dict` with 4 keys. Nice. Now let's look at our file system and verify that there isn't a file called `noise.pickle`."
   ]
  },
  {
   "cell_type": "code",
   "execution_count": 5,
   "metadata": {},
   "outputs": [
    {
     "name": "stderr",
     "output_type": "stream",
     "text": [
      "'ls' is not recognized as an internal or external command,\n",
      "operable program or batch file.\n"
     ]
    }
   ],
   "source": [
    "!ls"
   ]
  },
  {
   "cell_type": "markdown",
   "metadata": {},
   "source": [
    "Okay, now we're ready to create a file and write the bytes to it. To do this with `pickle`, we use python's read-write streamer `open` and create a writable-binary (`wb`) file. We'll then use `pickle.dump` to put an object into that file as a string of bytes."
   ]
  },
  {
   "cell_type": "code",
   "execution_count": 6,
   "metadata": {},
   "outputs": [],
   "source": [
    "with open('noise.pickle', 'wb') as to_write:\n",
    "    pickle.dump(lots_of_noise, to_write)"
   ]
  },
  {
   "cell_type": "code",
   "execution_count": 7,
   "metadata": {},
   "outputs": [
    {
     "name": "stderr",
     "output_type": "stream",
     "text": [
      "'ls' is not recognized as an internal or external command,\n",
      "operable program or batch file.\n"
     ]
    }
   ],
   "source": [
    "!ls"
   ]
  },
  {
   "cell_type": "markdown",
   "metadata": {},
   "source": [
    "Now let's delete `lots_of_noise` and prove to ourselves it doesn't exist in Python's memory anymore."
   ]
  },
  {
   "cell_type": "code",
   "execution_count": 8,
   "metadata": {},
   "outputs": [],
   "source": [
    "del lots_of_noise"
   ]
  },
  {
   "cell_type": "code",
   "execution_count": 9,
   "metadata": {},
   "outputs": [
    {
     "name": "stdout",
     "output_type": "stream",
     "text": [
      "Variable   Type              Data/Info\n",
      "--------------------------------------\n",
      "pickle     module            <module 'pickle' from 'C:<...>aconda3\\\\lib\\\\pickle.py'>\n",
      "random     module            <module 'random' from 'C:<...>aconda3\\\\lib\\\\random.py'>\n",
      "sys        module            <module 'sys' (built-in)>\n",
      "to_write   BufferedWriter    <_io.BufferedWriter name='noise.pickle'>\n"
     ]
    }
   ],
   "source": [
    "whos"
   ]
  },
  {
   "cell_type": "code",
   "execution_count": 10,
   "metadata": {},
   "outputs": [
    {
     "ename": "NameError",
     "evalue": "name 'lots_of_noise' is not defined",
     "output_type": "error",
     "traceback": [
      "\u001b[1;31m---------------------------------------------------------------------------\u001b[0m",
      "\u001b[1;31mNameError\u001b[0m                                 Traceback (most recent call last)",
      "\u001b[1;32m<ipython-input-10-69f22b4d5ca8>\u001b[0m in \u001b[0;36m<module>\u001b[1;34m()\u001b[0m\n\u001b[1;32m----> 1\u001b[1;33m \u001b[0mprint\u001b[0m\u001b[1;33m(\u001b[0m\u001b[0mlots_of_noise\u001b[0m\u001b[1;33m)\u001b[0m\u001b[1;33m\u001b[0m\u001b[0m\n\u001b[0m",
      "\u001b[1;31mNameError\u001b[0m: name 'lots_of_noise' is not defined"
     ]
    }
   ],
   "source": [
    "print(lots_of_noise)"
   ]
  },
  {
   "cell_type": "markdown",
   "metadata": {},
   "source": [
    "Lovely. It's dead forever. Or is it?\n",
    "\n",
    "Let's open that `noise.pickle` file with read-binary (`rb`) mode. Then we'll ask pickle to retrieve the file with `pickle.load` and store it back in a variable."
   ]
  },
  {
   "cell_type": "code",
   "execution_count": 11,
   "metadata": {},
   "outputs": [],
   "source": [
    "with open('noise.pickle','rb') as read_file:\n",
    "    new_noise = pickle.load(read_file)"
   ]
  },
  {
   "cell_type": "code",
   "execution_count": 12,
   "metadata": {},
   "outputs": [
    {
     "name": "stdout",
     "output_type": "stream",
     "text": [
      "{'CA': [7, 40, 4, 61, 60, 40, 10, 45, 55, 44, 30, 36, 46, 20, 13, 14, 32, 62, 2, 57, 14, 65, 17, 42, 4, 24, 28, 29, 50, 7, 59, 16, 56, 5, 51, 50, 48, 25, 5, 24, 52, 52, 56, 13, 46, 50, 52, 25, 30, 60, 30, 2, 50, 10, 27, 39, 57, 30, 57, 10, 40, 27, 57, 11, 16, 15, 18, 36, 32, 27, 57, 0, 16, 61, 19, 34, 39, 48, 31, 38, 41, 7, 27, 31, 6, 9, 25, 45, 57, 1, 61, 6, 64, 50, 48, 31, 4, 17, 0, 10], 'IL': [0, 13, 3, 9, 20, 25, 65, 56, 57, 4, 57, 37, 19, 58, 52, 3, 11, 63, 52, 62, 58, 56, 23, 12, 33, 65, 14, 44, 41, 1, 17, 50, 55, 53, 10, 29, 58, 42, 2, 52, 8, 24, 65, 39, 6, 19, 8, 1, 34, 8], 'NY': [41, 62, 51, 15, 4, 37, 62, 1, 22, 12, 8, 6, 23, 11, 12, 20, 35, 39, 57, 51, 19, 11, 24, 30, 64, 16, 3, 44, 42, 47, 38, 10, 11, 61, 30, 11, 35, 45, 24, 27, 23, 15, 48, 9, 20, 47, 28, 58, 39, 51, 4, 45, 43, 12, 57, 37, 22, 16, 56, 5, 54, 24, 52, 37, 1, 16, 64, 59, 22, 55, 62, 46, 25, 62, 48, 44, 34, 62, 44, 47, 7, 16, 63, 19, 47, 4, 51, 17, 7, 59], 'WA': [33, 63, 0, 44, 1, 51, 41, 32, 31, 25, 43, 37, 32, 46, 59, 59, 26, 26, 53, 16, 64, 19, 18, 36, 61, 50, 61, 32, 40, 14, 47, 24, 21]}\n"
     ]
    }
   ],
   "source": [
    "print(new_noise)"
   ]
  },
  {
   "cell_type": "code",
   "execution_count": 13,
   "metadata": {},
   "outputs": [
    {
     "name": "stdout",
     "output_type": "stream",
     "text": [
      "Variable    Type              Data/Info\n",
      "---------------------------------------\n",
      "new_noise   dict              n=4\n",
      "pickle      module            <module 'pickle' from 'C:<...>aconda3\\\\lib\\\\pickle.py'>\n",
      "random      module            <module 'random' from 'C:<...>aconda3\\\\lib\\\\random.py'>\n",
      "read_file   BufferedReader    <_io.BufferedReader name='noise.pickle'>\n",
      "sys         module            <module 'sys' (built-in)>\n",
      "to_write    BufferedWriter    <_io.BufferedWriter name='noise.pickle'>\n"
     ]
    }
   ],
   "source": [
    "whos"
   ]
  },
  {
   "cell_type": "markdown",
   "metadata": {},
   "source": [
    "Random noise lives! We retrieved the entire structure from file. Nice."
   ]
  },
  {
   "cell_type": "markdown",
   "metadata": {},
   "source": [
    "### Okay, but I don't use dictionaries... I use pandas."
   ]
  },
  {
   "cell_type": "code",
   "execution_count": 14,
   "metadata": {},
   "outputs": [
    {
     "data": {
      "text/html": [
       "<div>\n",
       "<style scoped>\n",
       "    .dataframe tbody tr th:only-of-type {\n",
       "        vertical-align: middle;\n",
       "    }\n",
       "\n",
       "    .dataframe tbody tr th {\n",
       "        vertical-align: top;\n",
       "    }\n",
       "\n",
       "    .dataframe thead th {\n",
       "        text-align: right;\n",
       "    }\n",
       "</style>\n",
       "<table border=\"1\" class=\"dataframe\">\n",
       "  <thead>\n",
       "    <tr style=\"text-align: right;\">\n",
       "      <th></th>\n",
       "      <th>Yay</th>\n",
       "      <th>specific</th>\n",
       "      <th>column</th>\n",
       "      <th>names</th>\n",
       "    </tr>\n",
       "  </thead>\n",
       "  <tbody>\n",
       "    <tr>\n",
       "      <th>0</th>\n",
       "      <td>3.885449</td>\n",
       "      <td>-9.936568</td>\n",
       "      <td>3.543888</td>\n",
       "      <td>-0.917765</td>\n",
       "    </tr>\n",
       "    <tr>\n",
       "      <th>1</th>\n",
       "      <td>-8.022939</td>\n",
       "      <td>6.357629</td>\n",
       "      <td>0.695418</td>\n",
       "      <td>-4.035737</td>\n",
       "    </tr>\n",
       "    <tr>\n",
       "      <th>2</th>\n",
       "      <td>3.412747</td>\n",
       "      <td>-8.799567</td>\n",
       "      <td>-4.725565</td>\n",
       "      <td>-6.924584</td>\n",
       "    </tr>\n",
       "    <tr>\n",
       "      <th>3</th>\n",
       "      <td>-2.743290</td>\n",
       "      <td>6.592338</td>\n",
       "      <td>7.520717</td>\n",
       "      <td>7.250342</td>\n",
       "    </tr>\n",
       "    <tr>\n",
       "      <th>4</th>\n",
       "      <td>0.734964</td>\n",
       "      <td>2.218237</td>\n",
       "      <td>9.699290</td>\n",
       "      <td>-4.180120</td>\n",
       "    </tr>\n",
       "  </tbody>\n",
       "</table>\n",
       "</div>"
      ],
      "text/plain": [
       "        Yay  specific    column     names\n",
       "0  3.885449 -9.936568  3.543888 -0.917765\n",
       "1 -8.022939  6.357629  0.695418 -4.035737\n",
       "2  3.412747 -8.799567 -4.725565 -6.924584\n",
       "3 -2.743290  6.592338  7.520717  7.250342\n",
       "4  0.734964  2.218237  9.699290 -4.180120"
      ]
     },
     "execution_count": 14,
     "metadata": {},
     "output_type": "execute_result"
    }
   ],
   "source": [
    "import pandas as pd\n",
    "import numpy as np\n",
    "\n",
    "df = pd.DataFrame(np.random.uniform(-10,10, size=(100,4)), columns=['Yay','specific','column','names'])\n",
    "df.head(5)"
   ]
  },
  {
   "cell_type": "code",
   "execution_count": 15,
   "metadata": {},
   "outputs": [],
   "source": [
    "with open('my_dataframe.pickle', 'wb') as to_write:\n",
    "    pickle.dump(df, to_write)"
   ]
  },
  {
   "cell_type": "code",
   "execution_count": 16,
   "metadata": {},
   "outputs": [
    {
     "ename": "NameError",
     "evalue": "name 'df' is not defined",
     "output_type": "error",
     "traceback": [
      "\u001b[1;31m---------------------------------------------------------------------------\u001b[0m",
      "\u001b[1;31mNameError\u001b[0m                                 Traceback (most recent call last)",
      "\u001b[1;32m<ipython-input-16-3975f6306adf>\u001b[0m in \u001b[0;36m<module>\u001b[1;34m()\u001b[0m\n\u001b[0;32m      1\u001b[0m \u001b[1;32mdel\u001b[0m \u001b[0mdf\u001b[0m\u001b[1;33m\u001b[0m\u001b[0m\n\u001b[0;32m      2\u001b[0m \u001b[1;33m\u001b[0m\u001b[0m\n\u001b[1;32m----> 3\u001b[1;33m \u001b[0mdf\u001b[0m\u001b[1;33m.\u001b[0m\u001b[0mhead\u001b[0m\u001b[1;33m(\u001b[0m\u001b[1;36m5\u001b[0m\u001b[1;33m)\u001b[0m\u001b[1;33m\u001b[0m\u001b[0m\n\u001b[0m",
      "\u001b[1;31mNameError\u001b[0m: name 'df' is not defined"
     ]
    }
   ],
   "source": [
    "del df\n",
    "\n",
    "df.head(5)"
   ]
  },
  {
   "cell_type": "code",
   "execution_count": 17,
   "metadata": {},
   "outputs": [
    {
     "data": {
      "text/html": [
       "<div>\n",
       "<style scoped>\n",
       "    .dataframe tbody tr th:only-of-type {\n",
       "        vertical-align: middle;\n",
       "    }\n",
       "\n",
       "    .dataframe tbody tr th {\n",
       "        vertical-align: top;\n",
       "    }\n",
       "\n",
       "    .dataframe thead th {\n",
       "        text-align: right;\n",
       "    }\n",
       "</style>\n",
       "<table border=\"1\" class=\"dataframe\">\n",
       "  <thead>\n",
       "    <tr style=\"text-align: right;\">\n",
       "      <th></th>\n",
       "      <th>Yay</th>\n",
       "      <th>specific</th>\n",
       "      <th>column</th>\n",
       "      <th>names</th>\n",
       "    </tr>\n",
       "  </thead>\n",
       "  <tbody>\n",
       "    <tr>\n",
       "      <th>0</th>\n",
       "      <td>3.885449</td>\n",
       "      <td>-9.936568</td>\n",
       "      <td>3.543888</td>\n",
       "      <td>-0.917765</td>\n",
       "    </tr>\n",
       "    <tr>\n",
       "      <th>1</th>\n",
       "      <td>-8.022939</td>\n",
       "      <td>6.357629</td>\n",
       "      <td>0.695418</td>\n",
       "      <td>-4.035737</td>\n",
       "    </tr>\n",
       "    <tr>\n",
       "      <th>2</th>\n",
       "      <td>3.412747</td>\n",
       "      <td>-8.799567</td>\n",
       "      <td>-4.725565</td>\n",
       "      <td>-6.924584</td>\n",
       "    </tr>\n",
       "    <tr>\n",
       "      <th>3</th>\n",
       "      <td>-2.743290</td>\n",
       "      <td>6.592338</td>\n",
       "      <td>7.520717</td>\n",
       "      <td>7.250342</td>\n",
       "    </tr>\n",
       "    <tr>\n",
       "      <th>4</th>\n",
       "      <td>0.734964</td>\n",
       "      <td>2.218237</td>\n",
       "      <td>9.699290</td>\n",
       "      <td>-4.180120</td>\n",
       "    </tr>\n",
       "  </tbody>\n",
       "</table>\n",
       "</div>"
      ],
      "text/plain": [
       "        Yay  specific    column     names\n",
       "0  3.885449 -9.936568  3.543888 -0.917765\n",
       "1 -8.022939  6.357629  0.695418 -4.035737\n",
       "2  3.412747 -8.799567 -4.725565 -6.924584\n",
       "3 -2.743290  6.592338  7.520717  7.250342\n",
       "4  0.734964  2.218237  9.699290 -4.180120"
      ]
     },
     "execution_count": 17,
     "metadata": {},
     "output_type": "execute_result"
    }
   ],
   "source": [
    "with open('my_dataframe.pickle','rb') as read_file:\n",
    "    new_df = pickle.load(read_file)\n",
    "    \n",
    "new_df.head(5)"
   ]
  },
  {
   "cell_type": "markdown",
   "metadata": {},
   "source": [
    "Pickle is a great tool. One recommended way of using it is to make it an end point of every step in your process. Example:\n",
    "\n",
    "* I got my data! Nice. Pickle it and stop your \"getting the data\" notebook.\n",
    "* Load your data from pickle. Clean it. Save your clean data to a new pickle.\n",
    "* Load your cleaned_data pickle. Do analysis and visualize it.\n",
    "\n",
    "This can provide natural \"pick-up-where-I-left-off-but-before-I-broke-my-data\" points. It's a great way to control the flow of your data.\n",
    "\n",
    "#### Resources\n",
    "\n",
    "https://docs.python.org/3.7/library/pickle.html"
   ]
  },
  {
   "cell_type": "code",
   "execution_count": null,
   "metadata": {},
   "outputs": [],
   "source": []
  }
 ],
 "metadata": {
  "kernelspec": {
   "display_name": "Python 3",
   "language": "python",
   "name": "python3"
  },
  "language_info": {
   "codemirror_mode": {
    "name": "ipython",
    "version": 3
   },
   "file_extension": ".py",
   "mimetype": "text/x-python",
   "name": "python",
   "nbconvert_exporter": "python",
   "pygments_lexer": "ipython3",
   "version": "3.6.4"
  }
 },
 "nbformat": 4,
 "nbformat_minor": 1
}
